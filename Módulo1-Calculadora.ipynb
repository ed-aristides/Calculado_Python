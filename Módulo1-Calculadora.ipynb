{
  "nbformat": 4,
  "nbformat_minor": 0,
  "metadata": {
    "colab": {
      "provenance": []
    },
    "kernelspec": {
      "name": "python3",
      "display_name": "Python 3"
    },
    "language_info": {
      "name": "python"
    }
  },
  "cells": [
    {
      "cell_type": "code",
      "execution_count": null,
      "metadata": {
        "id": "unNeCCOG5RvE"
      },
      "outputs": [],
      "source": [
        "num1 = float(input('Digite o primeiro número:'))\n",
        "num2 = float(input('Digite o segundo número:'))\n",
        "operação = input('Escolha a operação: Digite + para soma, - para subtração, * para multiplicação ou / para divisão:')\n",
        "\n",
        "if operação == '+':\n",
        "  resultado = num1 + num2\n",
        "  print('A soma de',num1,'+',num2,'é igual a',resultado)\n",
        "elif operação == '-':\n",
        "  resultado = num1 - num2\n",
        "  print('A subtração de',num1,'-',num2,'é igual a',resultado)\n",
        "elif operação == '*':\n",
        "  resultado = num1 * num2\n",
        "  print('A multiplicação de',num1,'*',num2,'é igual a',resultado)\n",
        "elif operação == '/':\n",
        "  resultado = num1 / num2\n",
        "  print('A divisão de',num1,'/',num2,'é igual a',resultado)\n",
        "else:\n",
        "  print('Digite uma opção válida.')"
      ]
    }
  ]
}